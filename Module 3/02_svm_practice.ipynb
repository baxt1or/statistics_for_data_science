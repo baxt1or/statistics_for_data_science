{
 "cells": [
  {
   "cell_type": "code",
   "execution_count": 6,
   "metadata": {},
   "outputs": [
    {
     "name": "stdout",
     "output_type": "stream",
     "text": [
      "Model:  LogisticRegression\n",
      "Accuracy:  0.7839572192513369\n",
      "Persition score:  0.7520325203252033\n",
      "Recall score:  0.8222222222222222\n",
      "F1 Score:  0.7855626326963907\n",
      "-----------------------------\n",
      "Confusion Matrix [[363 122]\n",
      " [ 80 370]]\n",
      "Model:  LinearSVC\n",
      "Accuracy:  0.7839572192513369\n",
      "Persition score:  0.7412451361867705\n",
      "Recall score:  0.8466666666666667\n",
      "F1 Score:  0.7904564315352697\n",
      "-----------------------------\n",
      "Confusion Matrix [[352 133]\n",
      " [ 69 381]]\n"
     ]
    },
    {
     "name": "stderr",
     "output_type": "stream",
     "text": [
      "C:\\Users\\baxti\\AppData\\Roaming\\Python\\Python312\\site-packages\\sklearn\\svm\\_base.py:1235: ConvergenceWarning: Liblinear failed to converge, increase the number of iterations.\n",
      "  warnings.warn(\n"
     ]
    }
   ],
   "source": [
    "import pandas as pd\n",
    "import numpy as np\n",
    "from sklearn.preprocessing import LabelEncoder, StandardScaler\n",
    "from sklearn.linear_model import LogisticRegression\n",
    "from sklearn.svm import LinearSVC\n",
    "from sklearn.model_selection import train_test_split\n",
    "from sklearn.metrics import precision_score, recall_score, f1_score, accuracy_score, confusion_matrix\n",
    "from sklearn.pipeline import Pipeline\n",
    "\n",
    "churn_df = pd.read_csv(\"./data/Telco-Customer-Churn.csv\").rename(columns={\"Unnamed: 0\": \"customerID\"})\n",
    "\n",
    "\n",
    "churn_df = churn_df.drop([\"customerID\", \"TotalCharges\"], axis=1)\n",
    "churn_df[\"Churn\"] = churn_df[\"Churn\"].apply(lambda x: 1 if x==\"Yes\" else 0)\n",
    "\n",
    "non_numeric_columns = churn_df.select_dtypes(include=\"object\").columns.tolist()\n",
    "\n",
    "encoder = LabelEncoder()\n",
    "\n",
    "for col in non_numeric_columns:\n",
    "    churn_df[col] = encoder.fit_transform(churn_df[col])\n",
    "\n",
    "\n",
    "majority_class = churn_df[churn_df['Churn'] == 0]\n",
    "minority_class = churn_df[churn_df['Churn'] == 1]\n",
    "\n",
    "\n",
    "majority_class_undersampled = majority_class.sample(n=minority_class.shape[0], random_state=42)\n",
    "balanced_churn_df = pd.concat([majority_class_undersampled, minority_class])\n",
    "balanced_churn_df = balanced_churn_df.sample(frac=1, random_state=42).reset_index(drop=True)\n",
    "\n",
    "\n",
    "X = balanced_churn_df.drop(\"Churn\", axis=1)\n",
    "y = balanced_churn_df[\"Churn\"]\n",
    "\n",
    "X_train, X_test, y_train, y_test = train_test_split(X, y, test_size=0.25, random_state=42)\n",
    "\n",
    "models = [LogisticRegression(class_weight='balanced'), LinearSVC(C=1, loss=\"hinge\")]\n",
    "\n",
    "for model in models:\n",
    "        \n",
    "    clf = Pipeline([\n",
    "        (\"scaler\", StandardScaler()),\n",
    "        (\"model\", model)\n",
    "    ])\n",
    "   \n",
    "    clf.fit(X_train, y_train)\n",
    "    print(\"Model: \", model.__class__.__name__)\n",
    "    y_pred = clf.predict(X_test)\n",
    "    \n",
    "    accuracy = accuracy_score(y_test, y_pred)\n",
    "    pr_score = precision_score(y_test, y_pred)\n",
    "    rc_score = recall_score(y_test, y_pred)\n",
    "    f_score = f1_score(y_test, y_pred)\n",
    "    cf_matrix = confusion_matrix(y_test, y_pred)   \n",
    "\n",
    "    print(\"Accuracy: \", accuracy)\n",
    "    print(\"Persition score: \", pr_score)\n",
    "    print(\"Recall score: \", rc_score)\n",
    "    print(\"F1 Score: \", f_score)\n",
    "    print(\"-----------------------------\")\n",
    "    print(\"Confusion Matrix\",cf_matrix)"
   ]
  }
 ],
 "metadata": {
  "kernelspec": {
   "display_name": "Python 3",
   "language": "python",
   "name": "python3"
  },
  "language_info": {
   "codemirror_mode": {
    "name": "ipython",
    "version": 3
   },
   "file_extension": ".py",
   "mimetype": "text/x-python",
   "name": "python",
   "nbconvert_exporter": "python",
   "pygments_lexer": "ipython3",
   "version": "3.12.4"
  }
 },
 "nbformat": 4,
 "nbformat_minor": 2
}
