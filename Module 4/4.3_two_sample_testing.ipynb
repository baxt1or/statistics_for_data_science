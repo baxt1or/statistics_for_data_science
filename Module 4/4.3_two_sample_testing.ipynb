{
 "cells": [
  {
   "cell_type": "code",
   "execution_count": 12,
   "metadata": {},
   "outputs": [],
   "source": [
    "import numpy as np\n",
    "import pandas as pd\n",
    "from scipy.stats import t"
   ]
  },
  {
   "cell_type": "code",
   "execution_count": null,
   "metadata": {},
   "outputs": [],
   "source": [
    "def two_sample_difference_t_testing(sample1, sample2, alpha):\n",
    "    \"\"\"\n",
    "    Performs a paired two-sample t-test and computes the confidence interval.\n",
    "\n",
    "    Parameters:\n",
    "    ----------\n",
    "    sample1 : list\n",
    "        The first sample data (e.g., before-treatment values).\n",
    "    sample2 : list\n",
    "        The second sample data (e.g., after-treatment values).\n",
    "    alpha : float\n",
    "        The significance level for the hypothesis test (e.g., 0.05 for a 95% confidence level).\n",
    "\n",
    "    Returns:\n",
    "    -------\n",
    "    tuple\n",
    "        - A list [lower_bound, upper_bound] representing the confidence interval.\n",
    "        - A string indicating the hypothesis test result:\n",
    "          \"reject Null Hypothesis\" or \"fails to reject Null Hypothesis\".\n",
    "    \"\"\"\n",
    "\n",
    "    difference = [x - y for x, y in zip(sample1, sample2)]\n",
    "\n",
    "    n = len(difference)\n",
    "    mean_d = np.mean(difference)\n",
    "    std_d = np.std(difference, ddof=1) \n",
    "\n",
    "    t_score = mean_d / (std_d / np.sqrt(n))\n",
    "    t_critical = t.ppf(1 - alpha, df=n - 1)\n",
    "\n",
    "    t_c = t.ppf(1 - alpha / 2, df=n - 1)\n",
    "    se = std_d / np.sqrt(n)\n",
    "    interval1, interval2 = mean_d + t_c * se, mean_d - t_c * se\n",
    "\n",
    "    return [interval2, interval1], \"reject Null Hypothesis\" if abs(t_score) > abs(t_critical) else \"fails to reject Null Hypothesis\""
   ]
  }
 ],
 "metadata": {
  "kernelspec": {
   "display_name": "Python 3",
   "language": "python",
   "name": "python3"
  },
  "language_info": {
   "codemirror_mode": {
    "name": "ipython",
    "version": 3
   },
   "file_extension": ".py",
   "mimetype": "text/x-python",
   "name": "python",
   "nbconvert_exporter": "python",
   "pygments_lexer": "ipython3",
   "version": "3.12.4"
  }
 },
 "nbformat": 4,
 "nbformat_minor": 2
}
