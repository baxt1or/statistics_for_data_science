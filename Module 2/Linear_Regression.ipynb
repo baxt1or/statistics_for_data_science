{
 "cells": [
  {
   "cell_type": "code",
   "execution_count": 1,
   "metadata": {},
   "outputs": [],
   "source": [
    "import numpy as np\n",
    "import pandas as pd"
   ]
  },
  {
   "cell_type": "markdown",
   "metadata": {},
   "source": [
    "# Linear Regression\n",
    "\n",
    "### Mathematical Representation\n",
    "\n",
    "$$ y\n",
    "^\n",
    "​\n",
    " =X⋅w+b $$\n",
    "\n",
    " - **X** is matrix input with n_samples(rows) and n_features(rows)\n",
    " - **w** (weights) or vector cofficient of n_features\n",
    " - **b** (bias) is intercept\n",
    " - **y** predicted values\n",
    "\n",
    "\n",
    "\n",
    " ## Loss Function (Mean Squared Error)\n",
    " - Our main goal is to minimize this function\n",
    "\n",
    "$$ \\text{Loss} = \\frac{1}{n} \\sum_{i=1}^{n} (y_i - \\hat{y}_i)^2 $$\n",
    "\n",
    "\n",
    "\n",
    "\n",
    "\n",
    "### Gradient with respect to weights (**w**):\n",
    "\n",
    "$$ \\frac{\\partial \\text{Loss}}{\\partial w_j} = -\\frac{1}{n} \\sum_{i=1}^{n} (y_i - \\hat{y}_i) \\cdot X_{ij}\n",
    " $$\n",
    "\n",
    "- Vectorized form\n",
    "$$ \\mathbf{dw} = \\frac{1}{n} X^\\top (\\hat{\\mathbf{y}} - \\mathbf{y})\n",
    " $$\n",
    "\n",
    "### Gradient with respect to bias (**b**):\n",
    "\n",
    " $$ \\frac{\\partial \\text{Loss}}{\\partial b} = -\\frac{1}{n} \\sum_{i=1}^n (y_i - \\hat{y}_i)\n",
    " $$"
   ]
  },
  {
   "cell_type": "code",
   "execution_count": 2,
   "metadata": {},
   "outputs": [],
   "source": [
    "class LinearRegression:\n",
    "    def __init__(self, learning_rate, epochs) -> None:\n",
    "        self.learning_rate = learning_rate\n",
    "        self.epochs = epochs\n",
    "        self.weights = None\n",
    "        self.bias = None\n",
    "\n",
    "    def predict(self, X):\n",
    "        return np.dot(X, self.weights) + self.bias\n",
    "\n",
    "    def fit(self, X, y):\n",
    "        n_samples, n_features = X.shape\n",
    "        self.weights = np.zeros(n_features)\n",
    "        self.bias = 0\n",
    "\n",
    "        for _ in range(self.epochs):\n",
    "            y_pred = self.predict(X)\n",
    "\n",
    "            dw = np.dot(X.T, (y_pred-y)) / n_samples\n",
    "            db = np.mean(y_pred-y)\n",
    "\n",
    "            self.weights -= self.learning_rate * dw\n",
    "            self.bias  -= self.learning_rate * db\n",
    "        \n",
    "        return self.weights, self.bias        \n"
   ]
  },
  {
   "cell_type": "code",
   "execution_count": 5,
   "metadata": {},
   "outputs": [],
   "source": [
    "np.random.seed(42)\n",
    "n = 50\n",
    "\n",
    "\n",
    "X1 = np.linspace(1, 100, n) + np.random.normal(0, 10, n) \n",
    "X2 = np.linspace(50, 200, n) + np.random.normal(0, 15, n)  \n",
    "X3 = np.random.randint(10, 50, n) \n",
    "\n",
    "\n",
    "y = 3 * X1 + 2 * X2 + 5 * X3 + 10 + np.random.normal(0, 20, n)\n",
    "\n",
    "\n",
    "df = pd.DataFrame({\n",
    "    \"Feature1\": X1,\n",
    "    \"Feature2\": X2,\n",
    "    \"Feature3\": X3,\n",
    "    \"Target\": y\n",
    "})"
   ]
  },
  {
   "cell_type": "code",
   "execution_count": 6,
   "metadata": {},
   "outputs": [],
   "source": [
    "from sklearn.preprocessing import StandardScaler\n",
    "\n",
    "scaler = StandardScaler()\n",
    "\n",
    "X = df.drop(\"Target\", axis=1).to_numpy()\n",
    "y = df[\"Target\"].to_numpy()\n",
    "\n",
    "\n",
    "X_scal = scaler.fit_transform(X)"
   ]
  },
  {
   "cell_type": "code",
   "execution_count": 12,
   "metadata": {},
   "outputs": [
    {
     "data": {
      "text/plain": [
       "0.9865711634640058"
      ]
     },
     "execution_count": 12,
     "metadata": {},
     "output_type": "execute_result"
    }
   ],
   "source": [
    "from sklearn.metrics import r2_score\n",
    "\n",
    "lr = LinearRegression(learning_rate=0.01, epochs=1000)\n",
    "\n",
    "lr.fit(X_scal, y)\n",
    "y_pred = lr.predict(X_scal)\n",
    "\n",
    "r2_score(y, y_pred)"
   ]
  }
 ],
 "metadata": {
  "kernelspec": {
   "display_name": "Python 3",
   "language": "python",
   "name": "python3"
  },
  "language_info": {
   "codemirror_mode": {
    "name": "ipython",
    "version": 3
   },
   "file_extension": ".py",
   "mimetype": "text/x-python",
   "name": "python",
   "nbconvert_exporter": "python",
   "pygments_lexer": "ipython3",
   "version": "3.12.4"
  }
 },
 "nbformat": 4,
 "nbformat_minor": 2
}
