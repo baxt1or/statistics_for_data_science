{
 "cells": [
  {
   "cell_type": "code",
   "execution_count": 3,
   "metadata": {},
   "outputs": [],
   "source": [
    "import numpy as np \n",
    "import pandas as pd"
   ]
  },
  {
   "cell_type": "markdown",
   "metadata": {},
   "source": [
    "## Loss Function\n",
    "\n",
    "$$\n",
    "Loss=− \n",
    "n\n",
    "1\n",
    "​\n",
    "  \n",
    "i=1\n",
    "∑\n",
    "n\n",
    "​\n",
    " [y \n",
    "i\n",
    "​\n",
    " log( \n",
    "y\n",
    "^\n",
    "​\n",
    "  \n",
    "i\n",
    "​\n",
    " )+(1−y \n",
    "i\n",
    "​\n",
    " )log(1− \n",
    "y\n",
    "^\n",
    "​\n",
    "  \n",
    "i\n",
    "​\n",
    " )]\n",
    "$$ \n",
    "\n",
    "\n",
    "\n",
    "## Sigmoid Function\n",
    "$$ σ(z)= \n",
    "1+e \n",
    "−z\n",
    " \n",
    "1\n",
    "​\n",
    " $$"
   ]
  },
  {
   "cell_type": "code",
   "execution_count": 17,
   "metadata": {},
   "outputs": [],
   "source": [
    "class LogisticRegression:\n",
    "    def __init__(self, learning_rate, epochs) -> None:\n",
    "        self.learning_rate = learning_rate\n",
    "        self.epochs = epochs\n",
    "        self.weights = None\n",
    "        self.bias = None\n",
    "\n",
    "    def sigmoid(self, z):\n",
    "        return 1/ (1+np.exp(-z))\n",
    "\n",
    "    def predict(self, X):\n",
    "        return self.sigmoid(np.dot(X, self.weights) + self.bias) \n",
    "    \n",
    "    def fit(self,X, y):\n",
    "        n_samples, n_features = X.shape\n",
    "        self.weights = np.zeros(n_features)\n",
    "        self.bias = 0\n",
    "\n",
    "        for _ in range(self.epochs):\n",
    "            y_pred = self.predict(X)\n",
    "\n",
    "            dw = np.dot(X.T, (y_pred-y)) / n_samples\n",
    "            db = np.mean(y_pred - y)\n",
    "\n",
    "            self.weights -= self.learning_rate * dw\n",
    "            self.bias -= self.learning_rate * db\n",
    "        \n",
    "        return self.weights, self.bias"
   ]
  },
  {
   "cell_type": "code",
   "execution_count": 21,
   "metadata": {},
   "outputs": [],
   "source": [
    "np.random.seed(42)\n",
    "n = 50\n",
    "\n",
    "\n",
    "X1 = np.random.uniform(0, 10, n)  \n",
    "X2 = np.random.uniform(0, 10, n)  \n",
    "\n",
    "z = 2 * X1 - 1.5 * X2 - 5\n",
    "probabilities = 1 / (1 + np.exp(-z))\n",
    "y = (probabilities > 0.5).astype(int)  \n",
    "\n",
    "df = pd.DataFrame({\n",
    "    \"Feature1\": X1,\n",
    "    \"Feature2\": X2,\n",
    "    \"Target\": y\n",
    "})\n",
    "\n",
    "\n",
    "X = df.drop(\"Target\", axis=1).to_numpy()\n",
    "y = df[\"Target\"].to_numpy()"
   ]
  },
  {
   "cell_type": "code",
   "execution_count": 22,
   "metadata": {},
   "outputs": [
    {
     "data": {
      "text/plain": [
       "0.98"
      ]
     },
     "execution_count": 22,
     "metadata": {},
     "output_type": "execute_result"
    }
   ],
   "source": [
    "lg = LogisticRegression(learning_rate=0.01, epochs=10000)\n",
    "lg.fit(X, y)\n",
    "y_pred = (lg.predict(X) >= 0.5).astype(int)\n",
    "np.mean(y_pred == y)"
   ]
  }
 ],
 "metadata": {
  "kernelspec": {
   "display_name": "Python 3",
   "language": "python",
   "name": "python3"
  },
  "language_info": {
   "codemirror_mode": {
    "name": "ipython",
    "version": 3
   },
   "file_extension": ".py",
   "mimetype": "text/x-python",
   "name": "python",
   "nbconvert_exporter": "python",
   "pygments_lexer": "ipython3",
   "version": "3.12.4"
  }
 },
 "nbformat": 4,
 "nbformat_minor": 2
}
