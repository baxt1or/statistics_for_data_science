{
 "cells": [
  {
   "cell_type": "markdown",
   "metadata": {},
   "source": [
    "# Support Vector Machine\n",
    "\n",
    "1. **SVM** performs well in high-dimensional spaces (e.g., text classification or image recognition) due to its ability to construct hyperplanes in such spaces effectively.\n",
    "2. **SVM** can handle non-linear separable data effectively using kernel tricks (e.g., polynomial, radial basis function (RBF)).\n",
    "3. **SVM** with a soft margin or appropriate kernel is more robust to **outliers** because it focuses on maximizing the margin and ignores points far away from the margin.\n",
    "\n",
    "### Fields of sage of SVM \n",
    "- **Text Classification**:\n",
    "SVM can be used for classifying text data into positive and negative categories, such as emails or product reviews.\n",
    "\n",
    "- **Bioinformatics**:\n",
    "SVM can be applied to protein classification, gene recognition, and predicting the properties of biomolecules.\n",
    "\n",
    "- **Computer Vision**:\n",
    "SVM can be utilized for object detection in images, face recognition, image classification, and more.\n",
    "\n",
    "- **Financial Analysis**:\n",
    "SVM can be employed to predict stock prices and classify investment products.\n",
    "\n",
    "- **Internet Advertising**:\n",
    "SVM can be used to classify users based on their online behavior and predict which advertisements will be most effective for specific users.\n",
    "\n",
    "- **Data Analysis**:\n",
    "SVM can be applied for clustering and classifying data such as customer data, sales data, and manufacturing process data.\n",
    "\n",
    "- **Medical Diagnosis**:\n",
    "SVM can be used to classify medical data, such as CT and MRI images, to determine the presence or absence of certain diseases."
   ]
  },
  {
   "cell_type": "code",
   "execution_count": 5,
   "metadata": {},
   "outputs": [],
   "source": [
    "import numpy as np\n",
    "import pandas as pd"
   ]
  },
  {
   "cell_type": "markdown",
   "metadata": {},
   "source": [
    "# Support Vector Machine\n",
    "$$ y \n",
    "pred\n",
    "​\n",
    " =sign(w⋅x+b) $$\n",
    "\n",
    "## Loss Function\n",
    "$$ L=0.5⋅∥w∥ \n",
    "2\n",
    " +C \n",
    "i=1\n",
    "∑\n",
    "n\n",
    "​\n",
    " max(0,1−y \n",
    "i\n",
    "​\n",
    " (w⋅x \n",
    "i\n",
    "​\n",
    " +b)) $$\n",
    "\n",
    "\n",
    "## for misclassification (w)\n",
    "$$ w=w−η⋅(2w−C⋅y \n",
    "i\n",
    "​\n",
    " ⋅x \n",
    "i\n",
    "​\n",
    " ) $$\n",
    "\n",
    "## Correct one w\n",
    "$$ w=w−η⋅(2w) $$\n",
    "\n",
    "## For Bias\n",
    "$$ b=b−η⋅(−C⋅y \n",
    "i\n",
    "​\n",
    " ) $$\n"
   ]
  },
  {
   "cell_type": "markdown",
   "metadata": {},
   "source": [
    "### SVM with linear relationship"
   ]
  },
  {
   "cell_type": "code",
   "execution_count": 6,
   "metadata": {},
   "outputs": [],
   "source": [
    "class SVC:\n",
    "    def __init__(self, learning_rate, epochs) -> None:\n",
    "        self.learning_rate = learning_rate\n",
    "        self.epochs = epochs\n",
    "        self.weights = None\n",
    "        self.bias = None\n",
    "    \n",
    "    def predict(self, X):\n",
    "        return (np.dot(X, self.weights) + self.bias) > 0\n",
    "\n",
    "    def fit(self, X, y, C=1):\n",
    "        n_samples, n_features = X.shape\n",
    "        self.weights = np.zeros(n_features)\n",
    "        self.bias = 0\n",
    "\n",
    "        for _ in range(self.epochs):\n",
    "            for i in range(n_samples):\n",
    "\n",
    "                y_i = 2 * y[i] - 1\n",
    "\n",
    "                if y_i * (np.dot(X[i], self.weights) + self.bias) < 1:\n",
    "                    self.weights -= self.learning_rate * (2 * self.weights - C * y_i * X[i])\n",
    "                    self.bias -= self.learning_rate * (-C * y_i)\n",
    "                else:\n",
    "                    self.weights -= self.learning_rate * (2 * self.weights)\n",
    "        return self.weights, self.bias"
   ]
  },
  {
   "cell_type": "code",
   "execution_count": 7,
   "metadata": {},
   "outputs": [],
   "source": [
    "np.random.seed(42)\n",
    "n = 50\n",
    "\n",
    "\n",
    "X1 = np.random.uniform(0, 10, n)  \n",
    "X2 = np.random.uniform(0, 10, n)  \n",
    "\n",
    "z = 2 * X1 - 1.5 * X2 - 5\n",
    "probabilities = 1 / (1 + np.exp(-z))\n",
    "y = (probabilities > 0.5).astype(int)  \n",
    "\n",
    "df = pd.DataFrame({\n",
    "    \"Feature1\": X1,\n",
    "    \"Feature2\": X2,\n",
    "    \"Target\": y\n",
    "})\n",
    "\n",
    "X = df.drop(\"Target\", axis=1).to_numpy()\n",
    "y = df[\"Target\"].to_numpy()"
   ]
  },
  {
   "cell_type": "code",
   "execution_count": 8,
   "metadata": {},
   "outputs": [
    {
     "data": {
      "text/plain": [
       "0.94"
      ]
     },
     "execution_count": 8,
     "metadata": {},
     "output_type": "execute_result"
    }
   ],
   "source": [
    "svm = SVC(learning_rate=0.01, epochs=1000)\n",
    "svm.fit(X, y)\n",
    "y_pred = (svm.predict(X) >= 0.5).astype(int)\n",
    "np.mean(y_pred == y)"
   ]
  },
  {
   "cell_type": "markdown",
   "metadata": {},
   "source": [
    "### SVM with kernel-trick for non-linear relationship"
   ]
  },
  {
   "cell_type": "code",
   "execution_count": 9,
   "metadata": {},
   "outputs": [],
   "source": [
    "from sklearn.datasets import make_circles\n",
    "from sklearn.model_selection import train_test_split\n",
    "\n",
    "X, y = make_circles(n_samples=2000, noise=0.1, factor=0.3, random_state=42)\n",
    "\n",
    "X_train, X_test, y_train, y_test = train_test_split(X, y, test_size=0.2, random_state=42)"
   ]
  },
  {
   "cell_type": "code",
   "execution_count": 10,
   "metadata": {},
   "outputs": [
    {
     "name": "stdout",
     "output_type": "stream",
     "text": [
      "Accuracy:  1.0\n",
      "Persition score:  1.0\n",
      "Recall score:  1.0\n",
      "F1 Score:  1.0\n",
      "-----------------------------\n",
      "Confusion Matrix [[197   0]\n",
      " [  0 203]]\n"
     ]
    }
   ],
   "source": [
    "from sklearn.svm import SVC\n",
    "from sklearn.metrics import precision_score, recall_score, f1_score, accuracy_score, confusion_matrix\n",
    "\n",
    "\n",
    "svm = SVC()\n",
    "svm.fit(X_train, y_train)\n",
    "y_pred = svm.predict(X_test)\n",
    "\n",
    "accuracy = accuracy_score(y_test, y_pred)\n",
    "pr_score = precision_score(y_test, y_pred)\n",
    "rc_score = recall_score(y_test, y_pred)\n",
    "f_score = f1_score(y_test, y_pred)\n",
    "cf_matrix = confusion_matrix(y_test, y_pred)\n",
    "\n",
    "print(\"Accuracy: \", accuracy)\n",
    "print(\"Persition score: \", pr_score)\n",
    "print(\"Recall score: \", rc_score)\n",
    "print(\"F1 Score: \", f_score)\n",
    "print(\"-----------------------------\")\n",
    "print(\"Confusion Matrix\",cf_matrix)"
   ]
  },
  {
   "cell_type": "code",
   "execution_count": 11,
   "metadata": {},
   "outputs": [
    {
     "name": "stderr",
     "output_type": "stream",
     "text": [
      "C:\\Users\\baxti\\AppData\\Roaming\\Python\\Python312\\site-packages\\sklearn\\linear_model\\_logistic.py:469: ConvergenceWarning: lbfgs failed to converge (status=1):\n",
      "STOP: TOTAL NO. of ITERATIONS REACHED LIMIT.\n",
      "\n",
      "Increase the number of iterations (max_iter) or scale the data as shown in:\n",
      "    https://scikit-learn.org/stable/modules/preprocessing.html\n",
      "Please also refer to the documentation for alternative solver options:\n",
      "    https://scikit-learn.org/stable/modules/linear_model.html#logistic-regression\n",
      "  n_iter_i = _check_optimize_result(\n"
     ]
    },
    {
     "name": "stdout",
     "output_type": "stream",
     "text": [
      "Model:  LogisticRegression\n",
      "Accuracy:  0.7828877005347593\n",
      "Persition score:  0.7515274949083504\n",
      "Recall score:  0.82\n",
      "F1 Score:  0.7842720510095643\n",
      "-----------------------------\n",
      "Confusion Matrix [[363 122]\n",
      " [ 81 369]]\n",
      "Model:  SVC\n",
      "Accuracy:  0.732620320855615\n",
      "Persition score:  0.6923076923076923\n",
      "Recall score:  0.8\n",
      "F1 Score:  0.7422680412371134\n",
      "-----------------------------\n",
      "Confusion Matrix [[325 160]\n",
      " [ 90 360]]\n"
     ]
    }
   ],
   "source": [
    "from sklearn.preprocessing import LabelEncoder\n",
    "from sklearn.linear_model import LogisticRegression\n",
    "from sklearn.svm import SVC\n",
    "\n",
    "churn_df = pd.read_csv(\"./Telco-Customer-Churn.csv\").rename(columns={\"Unnamed: 0\":\"customerID\"})\n",
    "\n",
    "\n",
    "churn_df = churn_df.drop([\"customerID\", \"TotalCharges\"], axis=1)\n",
    "churn_df[\"Churn\"] = churn_df[\"Churn\"].apply(lambda x: 1 if x==\"Yes\" else 0)\n",
    "\n",
    "non_numeric_columns = churn_df.select_dtypes(include=\"object\").columns.tolist()\n",
    "\n",
    "encoder = LabelEncoder()\n",
    "\n",
    "for col in non_numeric_columns:\n",
    "    churn_df[col] = encoder.fit_transform(churn_df[col])\n",
    "\n",
    "\n",
    "\n",
    "majority_class = churn_df[churn_df['Churn'] == 0]\n",
    "minority_class = churn_df[churn_df['Churn'] == 1]\n",
    "\n",
    "\n",
    "majority_class_undersampled = majority_class.sample(n=minority_class.shape[0], random_state=42)\n",
    "\n",
    "\n",
    "balanced_churn_df = pd.concat([majority_class_undersampled, minority_class])\n",
    "\n",
    "\n",
    "balanced_churn_df = balanced_churn_df.sample(frac=1, random_state=42).reset_index(drop=True)\n",
    "\n",
    "\n",
    "X = balanced_churn_df.drop(\"Churn\", axis=1)\n",
    "y = balanced_churn_df[\"Churn\"]\n",
    "\n",
    "X_train, X_test, y_train, y_test = train_test_split(X, y, test_size=0.25, random_state=42)\n",
    "\n",
    "models = [LogisticRegression(class_weight='balanced'), SVC()]\n",
    "\n",
    "for model in models:\n",
    "    name = model.__class__.__name__\n",
    "    \n",
    "    model.fit(X_train, y_train)\n",
    "    print(\"Model: \", name)\n",
    "    y_pred = model.predict(X_test)\n",
    "    \n",
    "    accuracy = accuracy_score(y_test, y_pred)\n",
    "    pr_score = precision_score(y_test, y_pred)\n",
    "    rc_score = recall_score(y_test, y_pred)\n",
    "    f_score = f1_score(y_test, y_pred)\n",
    "    cf_matrix = confusion_matrix(y_test, y_pred)   \n",
    "\n",
    "    print(\"Accuracy: \", accuracy)\n",
    "    print(\"Persition score: \", pr_score)\n",
    "    print(\"Recall score: \", rc_score)\n",
    "    print(\"F1 Score: \", f_score)\n",
    "    print(\"-----------------------------\")\n",
    "    print(\"Confusion Matrix\",cf_matrix)\n"
   ]
  }
 ],
 "metadata": {
  "kernelspec": {
   "display_name": "Python 3",
   "language": "python",
   "name": "python3"
  },
  "language_info": {
   "codemirror_mode": {
    "name": "ipython",
    "version": 3
   },
   "file_extension": ".py",
   "mimetype": "text/x-python",
   "name": "python",
   "nbconvert_exporter": "python",
   "pygments_lexer": "ipython3",
   "version": "3.12.4"
  }
 },
 "nbformat": 4,
 "nbformat_minor": 2
}
